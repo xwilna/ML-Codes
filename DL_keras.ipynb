{
  "cells": [
    {
      "cell_type": "code",
      "id": "initial_id",
      "metadata": {
        "collapsed": true,
        "ExecuteTime": {
          "end_time": "2025-04-26T15:13:44.599842Z",
          "start_time": "2025-04-26T15:13:43.380160Z"
        },
        "id": "initial_id"
      },
      "source": [
        "from sklearn.datasets import fetch_openml\n",
        "import numpy as np\n",
        "import matplotlib.pyplot as plt\n",
        "from sklearn.neural_network import MLPClassifier\n",
        "from sklearn.model_selection import train_test_split\n",
        "\n",
        "import tensorflow.keras.models as models\n",
        "import tensorflow.keras.layers as layers\n",
        "from tensorflow.keras.datasets import mnist\n",
        "from tensorflow.keras.utils import to_categorical"
      ],
      "outputs": [],
      "execution_count": 64
    },
    {
      "metadata": {
        "ExecuteTime": {
          "end_time": "2025-04-26T15:13:49.326700Z",
          "start_time": "2025-04-26T15:13:49.078601Z"
        },
        "colab": {
          "base_uri": "https://localhost:8080/"
        },
        "id": "4141b494258f957d",
        "outputId": "31aedf72-fdf1-4b36-def8-2dcf11a714f0"
      },
      "cell_type": "code",
      "source": [
        "(x_train, y_train), (x_test, y_test) = mnist.load_data()\n",
        "\n",
        "print(y_train[0])\n",
        "\n",
        "y_train = to_categorical(y_train)\n",
        "y_test = to_categorical(y_test)\n",
        "\n",
        "print(y_train[0])\n",
        "\n",
        "print(x_train.shape)\n",
        "print(x_test.shape)"
      ],
      "id": "4141b494258f957d",
      "outputs": [
        {
          "output_type": "stream",
          "name": "stdout",
          "text": [
            "5\n",
            "[0. 0. 0. 0. 0. 1. 0. 0. 0. 0.]\n",
            "(60000, 28, 28)\n",
            "(10000, 28, 28)\n"
          ]
        }
      ],
      "execution_count": 65
    },
    {
      "cell_type": "code",
      "source": [
        "model = models.Sequential([\n",
        "    layers.Input(shape=(28,28)),\n",
        "\n",
        "    layers.Flatten(),\n",
        "\n",
        "    layers.Dense(128, activation=\"relu\"),\n",
        "    layers.Dense(64, activation=\"relu\"),\n",
        "\n",
        "    layers.Dense(10, activation=\"softmax\")\n",
        "])\n",
        "\n",
        "model.summary()"
      ],
      "metadata": {
        "colab": {
          "base_uri": "https://localhost:8080/",
          "height": 266
        },
        "id": "nndcOKZVuRkK",
        "outputId": "a68ede6c-40a6-4d77-e40f-00857d180ef0"
      },
      "id": "nndcOKZVuRkK",
      "execution_count": 45,
      "outputs": [
        {
          "output_type": "display_data",
          "data": {
            "text/plain": [
              "\u001b[1mModel: \"sequential_7\"\u001b[0m\n"
            ],
            "text/html": [
              "<pre style=\"white-space:pre;overflow-x:auto;line-height:normal;font-family:Menlo,'DejaVu Sans Mono',consolas,'Courier New',monospace\"><span style=\"font-weight: bold\">Model: \"sequential_7\"</span>\n",
              "</pre>\n"
            ]
          },
          "metadata": {}
        },
        {
          "output_type": "display_data",
          "data": {
            "text/plain": [
              "┏━━━━━━━━━━━━━━━━━━━━━━━━━━━━━━━━━┳━━━━━━━━━━━━━━━━━━━━━━━━┳━━━━━━━━━━━━━━━┓\n",
              "┃\u001b[1m \u001b[0m\u001b[1mLayer (type)                   \u001b[0m\u001b[1m \u001b[0m┃\u001b[1m \u001b[0m\u001b[1mOutput Shape          \u001b[0m\u001b[1m \u001b[0m┃\u001b[1m \u001b[0m\u001b[1m      Param #\u001b[0m\u001b[1m \u001b[0m┃\n",
              "┡━━━━━━━━━━━━━━━━━━━━━━━━━━━━━━━━━╇━━━━━━━━━━━━━━━━━━━━━━━━╇━━━━━━━━━━━━━━━┩\n",
              "│ flatten_7 (\u001b[38;5;33mFlatten\u001b[0m)             │ (\u001b[38;5;45mNone\u001b[0m, \u001b[38;5;34m784\u001b[0m)            │             \u001b[38;5;34m0\u001b[0m │\n",
              "├─────────────────────────────────┼────────────────────────┼───────────────┤\n",
              "│ dense_21 (\u001b[38;5;33mDense\u001b[0m)                │ (\u001b[38;5;45mNone\u001b[0m, \u001b[38;5;34m128\u001b[0m)            │       \u001b[38;5;34m100,480\u001b[0m │\n",
              "├─────────────────────────────────┼────────────────────────┼───────────────┤\n",
              "│ dense_22 (\u001b[38;5;33mDense\u001b[0m)                │ (\u001b[38;5;45mNone\u001b[0m, \u001b[38;5;34m64\u001b[0m)             │         \u001b[38;5;34m8,256\u001b[0m │\n",
              "├─────────────────────────────────┼────────────────────────┼───────────────┤\n",
              "│ dense_23 (\u001b[38;5;33mDense\u001b[0m)                │ (\u001b[38;5;45mNone\u001b[0m, \u001b[38;5;34m10\u001b[0m)             │           \u001b[38;5;34m650\u001b[0m │\n",
              "└─────────────────────────────────┴────────────────────────┴───────────────┘\n"
            ],
            "text/html": [
              "<pre style=\"white-space:pre;overflow-x:auto;line-height:normal;font-family:Menlo,'DejaVu Sans Mono',consolas,'Courier New',monospace\">┏━━━━━━━━━━━━━━━━━━━━━━━━━━━━━━━━━┳━━━━━━━━━━━━━━━━━━━━━━━━┳━━━━━━━━━━━━━━━┓\n",
              "┃<span style=\"font-weight: bold\"> Layer (type)                    </span>┃<span style=\"font-weight: bold\"> Output Shape           </span>┃<span style=\"font-weight: bold\">       Param # </span>┃\n",
              "┡━━━━━━━━━━━━━━━━━━━━━━━━━━━━━━━━━╇━━━━━━━━━━━━━━━━━━━━━━━━╇━━━━━━━━━━━━━━━┩\n",
              "│ flatten_7 (<span style=\"color: #0087ff; text-decoration-color: #0087ff\">Flatten</span>)             │ (<span style=\"color: #00d7ff; text-decoration-color: #00d7ff\">None</span>, <span style=\"color: #00af00; text-decoration-color: #00af00\">784</span>)            │             <span style=\"color: #00af00; text-decoration-color: #00af00\">0</span> │\n",
              "├─────────────────────────────────┼────────────────────────┼───────────────┤\n",
              "│ dense_21 (<span style=\"color: #0087ff; text-decoration-color: #0087ff\">Dense</span>)                │ (<span style=\"color: #00d7ff; text-decoration-color: #00d7ff\">None</span>, <span style=\"color: #00af00; text-decoration-color: #00af00\">128</span>)            │       <span style=\"color: #00af00; text-decoration-color: #00af00\">100,480</span> │\n",
              "├─────────────────────────────────┼────────────────────────┼───────────────┤\n",
              "│ dense_22 (<span style=\"color: #0087ff; text-decoration-color: #0087ff\">Dense</span>)                │ (<span style=\"color: #00d7ff; text-decoration-color: #00d7ff\">None</span>, <span style=\"color: #00af00; text-decoration-color: #00af00\">64</span>)             │         <span style=\"color: #00af00; text-decoration-color: #00af00\">8,256</span> │\n",
              "├─────────────────────────────────┼────────────────────────┼───────────────┤\n",
              "│ dense_23 (<span style=\"color: #0087ff; text-decoration-color: #0087ff\">Dense</span>)                │ (<span style=\"color: #00d7ff; text-decoration-color: #00d7ff\">None</span>, <span style=\"color: #00af00; text-decoration-color: #00af00\">10</span>)             │           <span style=\"color: #00af00; text-decoration-color: #00af00\">650</span> │\n",
              "└─────────────────────────────────┴────────────────────────┴───────────────┘\n",
              "</pre>\n"
            ]
          },
          "metadata": {}
        },
        {
          "output_type": "display_data",
          "data": {
            "text/plain": [
              "\u001b[1m Total params: \u001b[0m\u001b[38;5;34m109,386\u001b[0m (427.29 KB)\n"
            ],
            "text/html": [
              "<pre style=\"white-space:pre;overflow-x:auto;line-height:normal;font-family:Menlo,'DejaVu Sans Mono',consolas,'Courier New',monospace\"><span style=\"font-weight: bold\"> Total params: </span><span style=\"color: #00af00; text-decoration-color: #00af00\">109,386</span> (427.29 KB)\n",
              "</pre>\n"
            ]
          },
          "metadata": {}
        },
        {
          "output_type": "display_data",
          "data": {
            "text/plain": [
              "\u001b[1m Trainable params: \u001b[0m\u001b[38;5;34m109,386\u001b[0m (427.29 KB)\n"
            ],
            "text/html": [
              "<pre style=\"white-space:pre;overflow-x:auto;line-height:normal;font-family:Menlo,'DejaVu Sans Mono',consolas,'Courier New',monospace\"><span style=\"font-weight: bold\"> Trainable params: </span><span style=\"color: #00af00; text-decoration-color: #00af00\">109,386</span> (427.29 KB)\n",
              "</pre>\n"
            ]
          },
          "metadata": {}
        },
        {
          "output_type": "display_data",
          "data": {
            "text/plain": [
              "\u001b[1m Non-trainable params: \u001b[0m\u001b[38;5;34m0\u001b[0m (0.00 B)\n"
            ],
            "text/html": [
              "<pre style=\"white-space:pre;overflow-x:auto;line-height:normal;font-family:Menlo,'DejaVu Sans Mono',consolas,'Courier New',monospace\"><span style=\"font-weight: bold\"> Non-trainable params: </span><span style=\"color: #00af00; text-decoration-color: #00af00\">0</span> (0.00 B)\n",
              "</pre>\n"
            ]
          },
          "metadata": {}
        }
      ]
    },
    {
      "cell_type": "code",
      "source": [
        "model.compile(loss=\"categorical_crossentropy\", optimizer=\"adam\", metrics=[\"accuracy\"])\n",
        "history = model.fit(x_train, y_train, validation_split=0.1, epochs=10)\n",
        "history = history.history"
      ],
      "metadata": {
        "colab": {
          "base_uri": "https://localhost:8080/"
        },
        "id": "p5iX84LUuoAQ",
        "outputId": "866c920a-98f8-4541-b372-179b1583e454"
      },
      "id": "p5iX84LUuoAQ",
      "execution_count": 46,
      "outputs": [
        {
          "output_type": "stream",
          "name": "stdout",
          "text": [
            "Epoch 1/10\n",
            "\u001b[1m1688/1688\u001b[0m \u001b[32m━━━━━━━━━━━━━━━━━━━━\u001b[0m\u001b[37m\u001b[0m \u001b[1m7s\u001b[0m 3ms/step - accuracy: 0.7904 - loss: 5.4348 - val_accuracy: 0.9157 - val_loss: 0.3040\n",
            "Epoch 2/10\n",
            "\u001b[1m1688/1688\u001b[0m \u001b[32m━━━━━━━━━━━━━━━━━━━━\u001b[0m\u001b[37m\u001b[0m \u001b[1m8s\u001b[0m 3ms/step - accuracy: 0.9198 - loss: 0.3077 - val_accuracy: 0.9405 - val_loss: 0.2320\n",
            "Epoch 3/10\n",
            "\u001b[1m1688/1688\u001b[0m \u001b[32m━━━━━━━━━━━━━━━━━━━━\u001b[0m\u001b[37m\u001b[0m \u001b[1m4s\u001b[0m 3ms/step - accuracy: 0.9423 - loss: 0.2160 - val_accuracy: 0.9465 - val_loss: 0.1915\n",
            "Epoch 4/10\n",
            "\u001b[1m1688/1688\u001b[0m \u001b[32m━━━━━━━━━━━━━━━━━━━━\u001b[0m\u001b[37m\u001b[0m \u001b[1m6s\u001b[0m 3ms/step - accuracy: 0.9539 - loss: 0.1607 - val_accuracy: 0.9585 - val_loss: 0.1392\n",
            "Epoch 5/10\n",
            "\u001b[1m1688/1688\u001b[0m \u001b[32m━━━━━━━━━━━━━━━━━━━━\u001b[0m\u001b[37m\u001b[0m \u001b[1m5s\u001b[0m 3ms/step - accuracy: 0.9583 - loss: 0.1423 - val_accuracy: 0.9627 - val_loss: 0.1304\n",
            "Epoch 6/10\n",
            "\u001b[1m1688/1688\u001b[0m \u001b[32m━━━━━━━━━━━━━━━━━━━━\u001b[0m\u001b[37m\u001b[0m \u001b[1m5s\u001b[0m 3ms/step - accuracy: 0.9606 - loss: 0.1367 - val_accuracy: 0.9633 - val_loss: 0.1389\n",
            "Epoch 7/10\n",
            "\u001b[1m1688/1688\u001b[0m \u001b[32m━━━━━━━━━━━━━━━━━━━━\u001b[0m\u001b[37m\u001b[0m \u001b[1m9s\u001b[0m 3ms/step - accuracy: 0.9708 - loss: 0.1023 - val_accuracy: 0.9628 - val_loss: 0.1447\n",
            "Epoch 8/10\n",
            "\u001b[1m1688/1688\u001b[0m \u001b[32m━━━━━━━━━━━━━━━━━━━━\u001b[0m\u001b[37m\u001b[0m \u001b[1m5s\u001b[0m 3ms/step - accuracy: 0.9710 - loss: 0.1000 - val_accuracy: 0.9635 - val_loss: 0.1528\n",
            "Epoch 9/10\n",
            "\u001b[1m1688/1688\u001b[0m \u001b[32m━━━━━━━━━━━━━━━━━━━━\u001b[0m\u001b[37m\u001b[0m \u001b[1m5s\u001b[0m 2ms/step - accuracy: 0.9732 - loss: 0.0929 - val_accuracy: 0.9635 - val_loss: 0.1639\n",
            "Epoch 10/10\n",
            "\u001b[1m1688/1688\u001b[0m \u001b[32m━━━━━━━━━━━━━━━━━━━━\u001b[0m\u001b[37m\u001b[0m \u001b[1m5s\u001b[0m 3ms/step - accuracy: 0.9767 - loss: 0.0801 - val_accuracy: 0.9703 - val_loss: 0.1254\n"
          ]
        }
      ]
    },
    {
      "cell_type": "code",
      "source": [
        "plt.plot(history[\"loss\"], \"r\", label=\"loss\")\n",
        "plt.plot(history[\"val_loss\"], \"r--\", label=\"val_loss\")\n",
        "plt.legend()"
      ],
      "metadata": {
        "colab": {
          "base_uri": "https://localhost:8080/",
          "height": 447
        },
        "id": "TkGCBaFYwF84",
        "outputId": "0eb5ff4f-1a45-4321-bfeb-d50199e6c928"
      },
      "id": "TkGCBaFYwF84",
      "execution_count": 47,
      "outputs": [
        {
          "output_type": "execute_result",
          "data": {
            "text/plain": [
              "<matplotlib.legend.Legend at 0x7c0a8d3a7d90>"
            ]
          },
          "metadata": {},
          "execution_count": 47
        },
        {
          "output_type": "display_data",
          "data": {
            "text/plain": [
              "<Figure size 640x480 with 1 Axes>"
            ],
            "image/png": "[encoded data removed]"
          },
          "metadata": {}
        }
      ]
    },
    {
      "cell_type": "code",
      "source": [
        "plt.plot(history[\"accuracy\"], \"g\", label=\"accuracy\")\n",
        "plt.plot(history[\"val_accuracy\"], \"g--\", label=\"val_accuracy\")\n",
        "plt.legend()"
      ],
      "metadata": {
        "colab": {
          "base_uri": "https://localhost:8080/",
          "height": 452
        },
        "id": "IljngsgDwONT",
        "outputId": "6ff45df1-9b96-43d0-beef-186adc7cde0d"
      },
      "id": "IljngsgDwONT",
      "execution_count": 48,
      "outputs": [
        {
          "output_type": "execute_result",
          "data": {
            "text/plain": [
              "<matplotlib.legend.Legend at 0x7c0ae02cfd90>"
            ]
          },
          "metadata": {},
          "execution_count": 48
        },
        {
          "output_type": "display_data",
          "data": {
            "text/plain": [
              "<Figure size 640x480 with 1 Axes>"
            ],
            "image/png": "[encoded data removed]"
          },
          "metadata": {}
        }
      ]
    },
    {
      "cell_type": "code",
      "source": [
        "model.weights"
      ],
      "metadata": {
        "colab": {
          "base_uri": "https://localhost:8080/"
        },
        "id": "fIsjJGhJw53K",
        "outputId": "6c02e87c-1999-4e2d-aa2b-4a917c598c95"
      },
      "id": "fIsjJGhJw53K",
      "execution_count": 49,
      "outputs": [
        {
          "output_type": "execute_result",
          "data": {
            "text/plain": [
              "[<Variable path=sequential_7/dense_21/kernel, shape=(784, 128), dtype=float32, value=[[ 0.0692886   0.04580677  0.08028825 ... -0.04440505 -0.06344073\n",
              "    0.0015891 ]\n",
              "  [ 0.06815799  0.00586401  0.01476601 ... -0.01211695 -0.01025042\n",
              "    0.01533134]\n",
              "  [ 0.01155852  0.03052989 -0.05364856 ...  0.01222847  0.03185569\n",
              "    0.01898704]\n",
              "  ...\n",
              "  [-0.00957128 -0.03110898 -0.00227488 ...  0.03712476 -0.04314736\n",
              "   -0.01827002]\n",
              "  [-0.03792995 -0.01378307  0.00251146 ... -0.05353037  0.0445682\n",
              "   -0.07749717]\n",
              "  [ 0.05330103 -0.01635204  0.08032072 ...  0.07383048 -0.04092139\n",
              "   -0.00702968]]>,\n",
              " <Variable path=sequential_7/dense_21/bias, shape=(128,), dtype=float32, value=[-1.39920235e-01  3.25543620e-02 -8.15529749e-02 -1.69097722e-01\n",
              "  -6.84282258e-02 -2.81808265e-02 -7.39183044e-03 -6.32362068e-02\n",
              "  -2.49445308e-02 -5.82561567e-02 -8.47685412e-02 -2.23725121e-02\n",
              "  -1.62642431e-02 -1.51863238e-02 -7.76802674e-02 -2.87116263e-02\n",
              "  -4.29871269e-02  4.08386178e-02 -1.76329296e-02 -2.00574659e-02\n",
              "  -2.99478639e-02 -6.01589046e-02 -1.76777821e-02 -3.85820456e-02\n",
              "  -1.99413951e-02  2.35148873e-02  3.10143400e-02 -1.18080070e-02\n",
              "  -9.37608033e-02 -5.56261688e-02 -7.82579705e-02 -4.73617725e-02\n",
              "  -2.71105245e-02 -2.58300062e-02 -9.72764641e-02 -3.08510456e-02\n",
              "  -5.44376671e-02 -2.41375435e-02 -4.71384600e-02 -9.49164554e-02\n",
              "  -2.47466546e-02  2.44775377e-02 -3.01292762e-02 -1.06817178e-01\n",
              "   3.95051688e-02 -7.07552349e-03  2.26474777e-01 -7.29070827e-02\n",
              "  -5.88236153e-02 -1.04776688e-01  3.13599035e-02  2.43544206e-02\n",
              "  -1.88866541e-01 -5.41176237e-02 -1.12855472e-02  1.13180935e-01\n",
              "  -7.60028213e-02 -3.01422086e-03 -2.99480408e-02 -1.53634837e-02\n",
              "  -7.25723207e-02 -6.14941679e-02 -2.93054879e-02 -2.79226024e-02\n",
              "  -6.30920753e-02 -3.26711722e-02 -7.09778965e-02 -3.37924287e-02\n",
              "  -1.18745607e-03 -7.88505301e-02 -4.68908921e-02  2.45291874e-01\n",
              "  -8.36014301e-02 -1.07955925e-01 -5.09977917e-06 -5.94654195e-02\n",
              "   5.47058694e-03 -7.97640234e-02 -1.66096643e-01 -6.99541867e-02\n",
              "  -3.19383182e-02 -2.60086954e-02 -2.93583963e-02 -6.40458912e-02\n",
              "  -1.08433902e-01 -6.17778786e-02 -2.72600055e-02 -8.83546025e-02\n",
              "  -4.13774662e-02 -1.09774768e-02 -3.23975682e-02 -5.04055247e-02\n",
              "  -8.27767849e-02  1.75198615e-02 -3.20939124e-02 -5.62368184e-02\n",
              "  -4.05284949e-02  8.84054869e-04 -6.23022690e-02  1.71913281e-02\n",
              "  -4.48151566e-02 -1.37031093e-01 -2.64892187e-02 -2.81329192e-02\n",
              "   2.64541414e-02 -5.78619018e-02 -3.11409272e-02 -1.59347683e-01\n",
              "  -9.65272635e-02 -6.75382614e-02  5.96615660e-04 -6.09339066e-02\n",
              "  -1.32191598e-01 -2.93650897e-03 -5.61570562e-03 -6.29685968e-02\n",
              "  -7.44471774e-02 -1.33204952e-01  1.60423681e-01 -3.64382677e-02\n",
              "  -5.22078983e-02 -4.24757935e-02 -6.07769638e-02  2.62589473e-02\n",
              "  -2.86909612e-03  2.96790719e-01 -9.48558934e-03 -4.67677191e-02]>,\n",
              " <Variable path=sequential_7/dense_22/kernel, shape=(128, 64), dtype=float32, value=[[ 0.08736963 -0.09230564 -0.00567892 ... -0.00193533 -0.05503345\n",
              "    0.0665514 ]\n",
              "  [ 0.054245    0.10680213 -0.23941745 ...  0.11957324 -0.00644682\n",
              "   -0.01920432]\n",
              "  [-0.10082237 -0.06090521 -0.16454431 ... -0.04547286 -0.02799126\n",
              "   -0.02517361]\n",
              "  ...\n",
              "  [-0.21593878 -0.23334754 -0.15930516 ...  0.02222539 -0.05960206\n",
              "   -0.03768462]\n",
              "  [-0.08451553  0.02866961  0.02056862 ...  0.2238016  -0.08476925\n",
              "   -0.2290601 ]\n",
              "  [-0.09248213  0.06686968  0.1396235  ...  0.05769651  0.12340079\n",
              "    0.03715221]]>,\n",
              " <Variable path=sequential_7/dense_22/bias, shape=(64,), dtype=float32, value=[-0.06639278 -0.07392073 -0.09319253  0.2090855  -0.11094752 -0.0805437\n",
              "  -0.14639604 -0.10977896 -0.1357777  -0.09300487 -0.14583696 -0.13487215\n",
              "  -0.13609095 -0.093389   -0.09954967 -0.14413305  0.0747387  -0.07039543\n",
              "  -0.09758155 -0.0858933  -0.15775819 -0.13722456 -0.07777347 -0.113983\n",
              "   0.06612074 -0.02411967 -0.14155473 -0.09452512 -0.11251622 -0.10548206\n",
              "  -0.0971742  -0.11955151 -0.14746425 -0.09314589 -0.05536898 -0.10336835\n",
              "  -0.08883968 -0.09609073 -0.1320351  -0.11509461 -0.09037983 -0.09918749\n",
              "  -0.16448765  0.3461565  -0.14205675 -0.0690729  -0.09028576 -0.1191827\n",
              "  -0.12019632 -0.07417414 -0.10986651 -0.03895621 -0.09096745 -0.106782\n",
              "  -0.08712407 -0.13214745 -0.06857861 -0.06854508 -0.10172634 -0.15429884\n",
              "  -0.09080041  0.05876435 -0.07888143 -0.0632961 ]>,\n",
              " <Variable path=sequential_7/dense_23/kernel, shape=(64, 10), dtype=float32, value=[[ 0.23067302 -0.13145673 -0.13537195  0.12224881 -0.2810962   0.20165181\n",
              "    0.05159038  0.02574356  0.16302763  0.13510275]\n",
              "  [-0.0995364  -0.2435718  -0.17135496  0.048673    0.15296265  0.08244886\n",
              "    0.01437191  0.025835    0.04723654  0.10815526]\n",
              "  [-0.02275583 -0.13799496 -0.2125167  -0.10338463  0.11860357 -0.15819749\n",
              "   -0.05093578  0.13380153 -0.13004343  0.08454702]\n",
              "  [-0.00038792 -0.08301162 -0.00301915  0.00698488  0.02765539  0.00276801\n",
              "   -0.06775868 -0.03345253  0.02284089  0.04364111]\n",
              "  [-0.10026687 -0.06533382  0.1043043   0.05867085  0.15497956  0.05593449\n",
              "   -0.19788489 -0.19866449  0.03073273 -0.11203677]\n",
              "  [ 0.05476926  0.19331814 -0.03580772  0.09229078 -0.05395275 -0.04310595\n",
              "    0.23187688  0.06780569  0.22359177  0.12026867]\n",
              "  [ 0.04275203  0.07747266  0.0366581   0.02159237  0.03086957 -0.10385485\n",
              "    0.06668441  0.08640961  0.05738819  0.05924236]\n",
              "  [ 0.02173769 -0.02737649 -0.05487418 -0.17204724 -0.22431651  0.03504271\n",
              "   -0.04560085 -0.07487758 -0.02666261 -0.3041064 ]\n",
              "  [-0.04760206 -0.08136125 -0.16346309 -0.01505964 -0.1455891   0.01599066\n",
              "   -0.15395    -0.11644424 -0.05641822  0.00032739]\n",
              "  [ 0.1735862   0.07582971  0.13935034  0.10574792 -0.24993798  0.01454589\n",
              "    0.24292448  0.03133806 -0.04230659  0.21312271]\n",
              "  [-0.02942955  0.03385311 -0.02403801 -0.03666414  0.02069781 -0.01937197\n",
              "   -0.05664233 -0.00212163 -0.00712453 -0.00762259]\n",
              "  [ 0.1323805   0.09993891  0.15805991  0.10397244  0.12288561  0.06712692\n",
              "   -0.04070005  0.15633158  0.02469495  0.07018139]\n",
              "  [ 0.17863268 -0.13861905  0.16729198 -0.02718257  0.0683182   0.24055767\n",
              "    0.07880275  0.06850331  0.12437735  0.05932444]\n",
              "  [ 0.13788636 -0.07742001 -0.11379709 -0.18086463 -0.2453103   0.19092397\n",
              "   -0.12386856 -0.05131521  0.22282553  0.0439786 ]\n",
              "  [ 0.04873252  0.148261   -0.0207858   0.08192497 -0.10375614 -0.25166377\n",
              "   -0.15014549 -0.05129359 -0.11585854  0.01915122]\n",
              "  [-0.00674801  0.03265493  0.04141208  0.0519494   0.00301664  0.00893824\n",
              "   -0.01698802 -0.0182237   0.01862977  0.01944994]\n",
              "  [ 0.0878582   0.07228281  0.08914331  0.10355701  0.16165185  0.1326765\n",
              "    0.06886445  0.10230891  0.17423895  0.15105937]\n",
              "  [-0.12020861  0.1924796   0.16394803 -0.20841444  0.2309947   0.13125308\n",
              "   -0.1125227  -0.22297989  0.20141178  0.00205528]\n",
              "  [-0.12228919 -0.07388001  0.02086192 -0.00589469 -0.11300548  0.08050171\n",
              "    0.06497597  0.09658632 -0.00198752  0.03882275]\n",
              "  [ 0.00560379  0.05384762  0.02187517  0.06609264  0.05083299  0.07102226\n",
              "   -0.08722097  0.10281038  0.04641665  0.09223323]\n",
              "  [ 0.0597627   0.1186747   0.15987568  0.14939663  0.08016477  0.10017671\n",
              "    0.05112709  0.13389716  0.10507209  0.07939898]\n",
              "  [-0.18713588  0.10599789 -0.21701202  0.12539855 -0.16882624  0.135296\n",
              "    0.01813125 -0.01925647  0.15702622 -0.05584835]\n",
              "  [-0.07384031  0.10796622  0.07137529  0.00888972  0.07995386  0.17035998\n",
              "   -0.10910622  0.11047892 -0.22951026  0.10116445]\n",
              "  [ 0.09119607 -0.19355735  0.01168901  0.04083114 -0.27353278  0.12340519\n",
              "   -0.14275551  0.06425183 -0.28792456 -0.15941122]\n",
              "  [ 0.02814545  0.05049787  0.078422    0.04525507  0.11349179  0.01649614\n",
              "    0.0439231   0.08226117  0.03467989  0.04984389]\n",
              "  [-0.04179355 -0.05033001 -0.04619884 -0.09976584 -0.01321281 -0.04480589\n",
              "    0.02474546 -0.11267058 -0.02771517 -0.01795848]\n",
              "  [ 0.14764492  0.14413838 -0.09989042  0.13879307 -0.18094535  0.17536464\n",
              "    0.09141194 -0.16068298  0.10487939  0.02570911]\n",
              "  [ 0.09286947 -0.14203319  0.02376691 -0.0890195  -0.23169236  0.25199014\n",
              "    0.22855495 -0.23916486  0.20345512  0.26084214]\n",
              "  [ 0.14446159 -0.1382177  -0.02927881 -0.08342866  0.13558778  0.02342255\n",
              "    0.04414476  0.16810876 -0.13401912  0.00393227]\n",
              "  [-0.19806646  0.05949977 -0.18701954 -0.08473692  0.08213085 -0.18171377\n",
              "    0.01341999  0.18680626  0.14511338  0.11112173]\n",
              "  [ 0.00771918  0.01574345  0.03365453  0.10870224  0.15968658  0.1544488\n",
              "    0.09688156  0.1418124   0.03468695  0.15257724]\n",
              "  [-0.04832803  0.13383383 -0.21155538  0.10920914  0.10802628  0.07157449\n",
              "    0.14889516  0.16660248  0.19008626 -0.00529307]\n",
              "  [-0.01367206  0.02992454  0.12712272  0.06890797  0.07719851 -0.1581804\n",
              "    0.16478288  0.08923039  0.07555074 -0.05872352]\n",
              "  [-0.10691029  0.04570711 -0.170058   -0.01031282  0.06897996 -0.09586566\n",
              "   -0.10027366  0.06768204  0.00440205 -0.20734508]\n",
              "  [-0.22420488  0.02173181 -0.26272464 -0.1517593  -0.065087    0.02010422\n",
              "   -0.25664306 -0.15821424 -0.20542182 -0.07382707]\n",
              "  [-0.11720973 -0.1136461   0.02283948 -0.04427633 -0.1840545  -0.16183467\n",
              "    0.00553093 -0.1416243  -0.03981134 -0.16910724]\n",
              "  [ 0.1064751   0.19358714 -0.05950915 -0.14062203  0.15767905  0.01949841\n",
              "   -0.15549198 -0.02603898  0.19871096  0.09978199]\n",
              "  [ 0.07404082 -0.2626305   0.06809013  0.00866826 -0.09693629  0.1752768\n",
              "   -0.20996457 -0.00333199 -0.08855134 -0.04278224]\n",
              "  [ 0.07329489  0.15060218 -0.20314413  0.21047585  0.03442949  0.11246161\n",
              "   -0.26078668 -0.17087786 -0.19692075  0.10803181]\n",
              "  [ 0.1329827   0.09902168 -0.18454407  0.00862892 -0.15871958  0.22948974\n",
              "    0.09784355  0.18121509  0.08168525 -0.12997535]\n",
              "  [-0.00894261 -0.26575723 -0.22933075  0.13800025  0.03308261  0.11031889\n",
              "   -0.01815039 -0.25294104 -0.25593427 -0.18147077]\n",
              "  [ 0.2324531  -0.06153885  0.10286068 -0.13056406 -0.14650907 -0.20411697\n",
              "   -0.18101658  0.17083673 -0.04443391 -0.24859941]\n",
              "  [-0.14765422  0.06011658  0.04322086 -0.00565512 -0.0594723  -0.01943868\n",
              "    0.02278986  0.01814307 -0.0098406  -0.082978  ]\n",
              "  [ 0.02121083  0.05539817  0.03855068  0.0434953   0.00807576  0.01540803\n",
              "    0.03838934  0.04053785  0.08126394  0.03966127]\n",
              "  [ 0.14074053 -0.17358486  0.13858947 -0.00128366 -0.10701853 -0.14956409\n",
              "    0.12841502 -0.13768873 -0.0313945   0.03719324]\n",
              "  [-0.10890739  0.15812925 -0.09748527  0.16097094 -0.19084074 -0.2272971\n",
              "   -0.13977659  0.02495866  0.17575486  0.15767239]\n",
              "  [ 0.19996499  0.16267231  0.17137355  0.10799532  0.21270603 -0.15928112\n",
              "    0.10137685 -0.02792077 -0.22101142 -0.11683141]\n",
              "  [ 0.04229303 -0.19100657 -0.01422792  0.00557056  0.03446701  0.01086386\n",
              "    0.01659871  0.01308919 -0.002536    0.0426189 ]\n",
              "  [ 0.13184008  0.06746106  0.10297945  0.04172498  0.13700232  0.00375531\n",
              "   -0.1347039   0.07343218  0.11553584  0.08614204]\n",
              "  [-0.02199048  0.22162037  0.16875911 -0.05771997  0.11582419  0.00869165\n",
              "   -0.16868657  0.08426778  0.09841081  0.21436222]\n",
              "  [-0.27551338 -0.02315349 -0.23868708 -0.15774855 -0.03581387 -0.02426161\n",
              "   -0.18159969  0.00265082  0.04186619  0.16017987]\n",
              "  [ 0.1805256   0.13397479  0.18138915  0.13911909  0.12010354  0.1458873\n",
              "    0.17227966  0.16234864  0.15462168  0.11820168]\n",
              "  [ 0.17495137  0.16343111 -0.10221598  0.10436638  0.12333719  0.05762718\n",
              "    0.01970346 -0.02473221 -0.15943186 -0.00591642]\n",
              "  [ 0.1288472   0.21502207 -0.17591564  0.08715079  0.18739414 -0.06169773\n",
              "   -0.16510037 -0.03533895 -0.04449924 -0.10675454]\n",
              "  [-0.1471666   0.04131224 -0.19612482 -0.09979425  0.02766569  0.14339937\n",
              "   -0.2195241   0.07800547  0.03829985 -0.20108482]\n",
              "  [ 0.13502336  0.21181206  0.21424699  0.11568959  0.19009331  0.05430913\n",
              "   -0.19754052  0.04423841 -0.07551374 -0.07981222]\n",
              "  [-0.04536197  0.1046434   0.20511304  0.2223566   0.10495503  0.16977946\n",
              "    0.16108511  0.04418556  0.08899563 -0.00675192]\n",
              "  [-0.02023258 -0.04616382  0.00820103 -0.10788607 -0.25477642 -0.24892439\n",
              "   -0.25192344  0.20505464  0.2665515   0.20195864]\n",
              "  [-0.12526491 -0.21344265 -0.10337323 -0.21379583 -0.25922456 -0.07496472\n",
              "   -0.18038733 -0.14286198  0.08094317 -0.19137697]\n",
              "  [ 0.11212702 -0.21564491  0.1484303   0.14422382  0.08893339  0.10268284\n",
              "   -0.01429304  0.14926717 -0.09484547 -0.00314008]\n",
              "  [ 0.155671   -0.00223609  0.00335089  0.14466755  0.07194018 -0.03739103\n",
              "   -0.16771126  0.02568267 -0.0963593   0.17047709]\n",
              "  [ 0.10203094  0.09117448  0.08523187  0.1602363   0.10191606  0.18015331\n",
              "    0.15384     0.07084092  0.1477434   0.12526445]\n",
              "  [ 0.11518364 -0.13422185 -0.14404547  0.23151705 -0.09432467  0.1820937\n",
              "   -0.09314129  0.03691181 -0.12670058 -0.17990269]\n",
              "  [ 0.22427203  0.261963   -0.20215271 -0.0386744  -0.18038541 -0.15239029\n",
              "    0.17989852 -0.14693531  0.11604917  0.04215043]]>,\n",
              " <Variable path=sequential_7/dense_23/bias, shape=(10,), dtype=float32, value=[ 0.43433854 -0.10537023 -0.09233896 -0.2939478  -0.03996241  0.09452976\n",
              "  -0.4046914  -0.49643552  0.56177396  0.19893424]>]"
            ]
          },
          "metadata": {},
          "execution_count": 49
        }
      ]
    },
    {
      "metadata": {
        "ExecuteTime": {
          "end_time": "2025-04-26T15:13:53.688680Z",
          "start_time": "2025-04-26T15:13:51.316196Z"
        },
        "id": "d927bacc54ebd956"
      },
      "cell_type": "code",
      "source": [
        "noise_factor = 0.5\n",
        "noisy_x_train = x_train + noise_factor * np.random.normal(loc=0, scale=1, size=x_train.shape)\n",
        "noisy_x_test = x_test + noise_factor * np.random.normal(loc=0, scale=1, size=x_test.shape)\n",
        "\n",
        "noisy_x_train = np.clip(noisy_x_train, 0, 1)\n",
        "noisy_x_test = np.clip(noisy_x_test, 0, 1)"
      ],
      "id": "d927bacc54ebd956",
      "outputs": [],
      "execution_count": 67
    },
    {
      "metadata": {
        "ExecuteTime": {
          "end_time": "2025-04-26T15:14:18.279327Z",
          "start_time": "2025-04-26T15:14:18.097551Z"
        },
        "colab": {
          "base_uri": "https://localhost:8080/",
          "height": 304
        },
        "id": "f0619ac3a19adce4",
        "outputId": "1f2ccfe1-aedb-4297-d7c8-7bcb93a51e08"
      },
      "cell_type": "code",
      "source": [
        "sample = 24591\n",
        "\n",
        "plt.subplot(1, 2, 1)\n",
        "plt.imshow(x_train[sample].reshape(28, 28), cmap='gray')\n",
        "\n",
        "plt.subplot(1, 2, 2)\n",
        "plt.imshow(noisy_x_train[sample].reshape(28, 28), cmap='gray')"
      ],
      "id": "f0619ac3a19adce4",
      "outputs": [
        {
          "output_type": "execute_result",
          "data": {
            "text/plain": [
              "<matplotlib.image.AxesImage at 0x7c0a763e7850>"
            ]
          },
          "metadata": {},
          "execution_count": 69
        },
        {
          "output_type": "display_data",
          "data": {
            "text/plain": [
              "<Figure size 640x480 with 2 Axes>"
            ],
            "image/png": "[encoded data removed]"
          },
          "metadata": {}
        }
      ],
      "execution_count": 69
    },
    {
      "cell_type": "code",
      "source": [
        "import cv2 as cv\n",
        "\n",
        "plt.subplot(1, 2, 1)\n",
        "plt.imshow(noisy_x_train[sample].reshape(28, 28), cmap='gray')\n",
        "\n",
        "plt.subplot(1, 2, 2)\n",
        "plt.imshow(cv.GaussianBlur(noisy_x_train[sample], (3,3), 0,1), cmap='gray')"
      ],
      "metadata": {
        "colab": {
          "base_uri": "https://localhost:8080/",
          "height": 304
        },
        "id": "-r6oHYcUyMbH",
        "outputId": "f7e41255-9365-4c5b-9d35-20f154f91742"
      },
      "id": "-r6oHYcUyMbH",
      "execution_count": 63,
      "outputs": [
        {
          "output_type": "execute_result",
          "data": {
            "text/plain": [
              "<matplotlib.image.AxesImage at 0x7c0a7647cf50>"
            ]
          },
          "metadata": {},
          "execution_count": 63
        },
        {
          "output_type": "display_data",
          "data": {
            "text/plain": [
              "<Figure size 640x480 with 2 Axes>"
            ],
            "image/png": "[encoded data removed]"
          },
          "metadata": {}
        }
      ]
    },
    {
      "metadata": {
        "ExecuteTime": {
          "end_time": "2025-04-26T15:15:05.186038Z",
          "start_time": "2025-04-26T15:15:05.077794Z"
        },
        "colab": {
          "base_uri": "https://localhost:8080/",
          "height": 398
        },
        "id": "d2d9eabcdf8afb04",
        "outputId": "9d4efbd9-288f-4920-9d43-2a3797f495db"
      },
      "cell_type": "code",
      "source": [
        "# Create Model\n",
        "model = models.Sequential([\n",
        "    # Input Layer\n",
        "    layers.Input(shape=(28,28)),\n",
        "    layers.Flatten(),\n",
        "\n",
        "    # Hidden Layers\n",
        "    layers.Dense(512, activation='relu'),\n",
        "    layers.Dense(256, activation='relu'),\n",
        "    layers.Dense(128, activation='relu'),\n",
        "    layers.Dense(256, activation='relu'),\n",
        "    layers.Dense(512, activation='relu'),\n",
        "\n",
        "    # Output Layers\n",
        "    layers.Dense(784, activation='relu'),\n",
        "    layers.Reshape((28, 28))\n",
        "])\n",
        "\n",
        "model.summary()"
      ],
      "id": "d2d9eabcdf8afb04",
      "outputs": [
        {
          "output_type": "display_data",
          "data": {
            "text/plain": [
              "\u001b[1mModel: \"sequential_11\"\u001b[0m\n"
            ],
            "text/html": [
              "<pre style=\"white-space:pre;overflow-x:auto;line-height:normal;font-family:Menlo,'DejaVu Sans Mono',consolas,'Courier New',monospace\"><span style=\"font-weight: bold\">Model: \"sequential_11\"</span>\n",
              "</pre>\n"
            ]
          },
          "metadata": {}
        },
        {
          "output_type": "display_data",
          "data": {
            "text/plain": [
              "┏━━━━━━━━━━━━━━━━━━━━━━━━━━━━━━━━━┳━━━━━━━━━━━━━━━━━━━━━━━━┳━━━━━━━━━━━━━━━┓\n",
              "┃\u001b[1m \u001b[0m\u001b[1mLayer (type)                   \u001b[0m\u001b[1m \u001b[0m┃\u001b[1m \u001b[0m\u001b[1mOutput Shape          \u001b[0m\u001b[1m \u001b[0m┃\u001b[1m \u001b[0m\u001b[1m      Param #\u001b[0m\u001b[1m \u001b[0m┃\n",
              "┡━━━━━━━━━━━━━━━━━━━━━━━━━━━━━━━━━╇━━━━━━━━━━━━━━━━━━━━━━━━╇━━━━━━━━━━━━━━━┩\n",
              "│ flatten_11 (\u001b[38;5;33mFlatten\u001b[0m)            │ (\u001b[38;5;45mNone\u001b[0m, \u001b[38;5;34m784\u001b[0m)            │             \u001b[38;5;34m0\u001b[0m │\n",
              "├─────────────────────────────────┼────────────────────────┼───────────────┤\n",
              "│ dense_37 (\u001b[38;5;33mDense\u001b[0m)                │ (\u001b[38;5;45mNone\u001b[0m, \u001b[38;5;34m512\u001b[0m)            │       \u001b[38;5;34m401,920\u001b[0m │\n",
              "├─────────────────────────────────┼────────────────────────┼───────────────┤\n",
              "│ dense_38 (\u001b[38;5;33mDense\u001b[0m)                │ (\u001b[38;5;45mNone\u001b[0m, \u001b[38;5;34m256\u001b[0m)            │       \u001b[38;5;34m131,328\u001b[0m │\n",
              "├─────────────────────────────────┼────────────────────────┼───────────────┤\n",
              "│ dense_39 (\u001b[38;5;33mDense\u001b[0m)                │ (\u001b[38;5;45mNone\u001b[0m, \u001b[38;5;34m128\u001b[0m)            │        \u001b[38;5;34m32,896\u001b[0m │\n",
              "├─────────────────────────────────┼────────────────────────┼───────────────┤\n",
              "│ dense_40 (\u001b[38;5;33mDense\u001b[0m)                │ (\u001b[38;5;45mNone\u001b[0m, \u001b[38;5;34m256\u001b[0m)            │        \u001b[38;5;34m33,024\u001b[0m │\n",
              "├─────────────────────────────────┼────────────────────────┼───────────────┤\n",
              "│ dense_41 (\u001b[38;5;33mDense\u001b[0m)                │ (\u001b[38;5;45mNone\u001b[0m, \u001b[38;5;34m512\u001b[0m)            │       \u001b[38;5;34m131,584\u001b[0m │\n",
              "├─────────────────────────────────┼────────────────────────┼───────────────┤\n",
              "│ dense_42 (\u001b[38;5;33mDense\u001b[0m)                │ (\u001b[38;5;45mNone\u001b[0m, \u001b[38;5;34m784\u001b[0m)            │       \u001b[38;5;34m402,192\u001b[0m │\n",
              "├─────────────────────────────────┼────────────────────────┼───────────────┤\n",
              "│ reshape_6 (\u001b[38;5;33mReshape\u001b[0m)             │ (\u001b[38;5;45mNone\u001b[0m, \u001b[38;5;34m28\u001b[0m, \u001b[38;5;34m28\u001b[0m)         │             \u001b[38;5;34m0\u001b[0m │\n",
              "└─────────────────────────────────┴────────────────────────┴───────────────┘\n"
            ],
            "text/html": [
              "<pre style=\"white-space:pre;overflow-x:auto;line-height:normal;font-family:Menlo,'DejaVu Sans Mono',consolas,'Courier New',monospace\">┏━━━━━━━━━━━━━━━━━━━━━━━━━━━━━━━━━┳━━━━━━━━━━━━━━━━━━━━━━━━┳━━━━━━━━━━━━━━━┓\n",
              "┃<span style=\"font-weight: bold\"> Layer (type)                    </span>┃<span style=\"font-weight: bold\"> Output Shape           </span>┃<span style=\"font-weight: bold\">       Param # </span>┃\n",
              "┡━━━━━━━━━━━━━━━━━━━━━━━━━━━━━━━━━╇━━━━━━━━━━━━━━━━━━━━━━━━╇━━━━━━━━━━━━━━━┩\n",
              "│ flatten_11 (<span style=\"color: #0087ff; text-decoration-color: #0087ff\">Flatten</span>)            │ (<span style=\"color: #00d7ff; text-decoration-color: #00d7ff\">None</span>, <span style=\"color: #00af00; text-decoration-color: #00af00\">784</span>)            │             <span style=\"color: #00af00; text-decoration-color: #00af00\">0</span> │\n",
              "├─────────────────────────────────┼────────────────────────┼───────────────┤\n",
              "│ dense_37 (<span style=\"color: #0087ff; text-decoration-color: #0087ff\">Dense</span>)                │ (<span style=\"color: #00d7ff; text-decoration-color: #00d7ff\">None</span>, <span style=\"color: #00af00; text-decoration-color: #00af00\">512</span>)            │       <span style=\"color: #00af00; text-decoration-color: #00af00\">401,920</span> │\n",
              "├─────────────────────────────────┼────────────────────────┼───────────────┤\n",
              "│ dense_38 (<span style=\"color: #0087ff; text-decoration-color: #0087ff\">Dense</span>)                │ (<span style=\"color: #00d7ff; text-decoration-color: #00d7ff\">None</span>, <span style=\"color: #00af00; text-decoration-color: #00af00\">256</span>)            │       <span style=\"color: #00af00; text-decoration-color: #00af00\">131,328</span> │\n",
              "├─────────────────────────────────┼────────────────────────┼───────────────┤\n",
              "│ dense_39 (<span style=\"color: #0087ff; text-decoration-color: #0087ff\">Dense</span>)                │ (<span style=\"color: #00d7ff; text-decoration-color: #00d7ff\">None</span>, <span style=\"color: #00af00; text-decoration-color: #00af00\">128</span>)            │        <span style=\"color: #00af00; text-decoration-color: #00af00\">32,896</span> │\n",
              "├─────────────────────────────────┼────────────────────────┼───────────────┤\n",
              "│ dense_40 (<span style=\"color: #0087ff; text-decoration-color: #0087ff\">Dense</span>)                │ (<span style=\"color: #00d7ff; text-decoration-color: #00d7ff\">None</span>, <span style=\"color: #00af00; text-decoration-color: #00af00\">256</span>)            │        <span style=\"color: #00af00; text-decoration-color: #00af00\">33,024</span> │\n",
              "├─────────────────────────────────┼────────────────────────┼───────────────┤\n",
              "│ dense_41 (<span style=\"color: #0087ff; text-decoration-color: #0087ff\">Dense</span>)                │ (<span style=\"color: #00d7ff; text-decoration-color: #00d7ff\">None</span>, <span style=\"color: #00af00; text-decoration-color: #00af00\">512</span>)            │       <span style=\"color: #00af00; text-decoration-color: #00af00\">131,584</span> │\n",
              "├─────────────────────────────────┼────────────────────────┼───────────────┤\n",
              "│ dense_42 (<span style=\"color: #0087ff; text-decoration-color: #0087ff\">Dense</span>)                │ (<span style=\"color: #00d7ff; text-decoration-color: #00d7ff\">None</span>, <span style=\"color: #00af00; text-decoration-color: #00af00\">784</span>)            │       <span style=\"color: #00af00; text-decoration-color: #00af00\">402,192</span> │\n",
              "├─────────────────────────────────┼────────────────────────┼───────────────┤\n",
              "│ reshape_6 (<span style=\"color: #0087ff; text-decoration-color: #0087ff\">Reshape</span>)             │ (<span style=\"color: #00d7ff; text-decoration-color: #00d7ff\">None</span>, <span style=\"color: #00af00; text-decoration-color: #00af00\">28</span>, <span style=\"color: #00af00; text-decoration-color: #00af00\">28</span>)         │             <span style=\"color: #00af00; text-decoration-color: #00af00\">0</span> │\n",
              "└─────────────────────────────────┴────────────────────────┴───────────────┘\n",
              "</pre>\n"
            ]
          },
          "metadata": {}
        },
        {
          "output_type": "display_data",
          "data": {
            "text/plain": [
              "\u001b[1m Total params: \u001b[0m\u001b[38;5;34m1,132,944\u001b[0m (4.32 MB)\n"
            ],
            "text/html": [
              "<pre style=\"white-space:pre;overflow-x:auto;line-height:normal;font-family:Menlo,'DejaVu Sans Mono',consolas,'Courier New',monospace\"><span style=\"font-weight: bold\"> Total params: </span><span style=\"color: #00af00; text-decoration-color: #00af00\">1,132,944</span> (4.32 MB)\n",
              "</pre>\n"
            ]
          },
          "metadata": {}
        },
        {
          "output_type": "display_data",
          "data": {
            "text/plain": [
              "\u001b[1m Trainable params: \u001b[0m\u001b[38;5;34m1,132,944\u001b[0m (4.32 MB)\n"
            ],
            "text/html": [
              "<pre style=\"white-space:pre;overflow-x:auto;line-height:normal;font-family:Menlo,'DejaVu Sans Mono',consolas,'Courier New',monospace\"><span style=\"font-weight: bold\"> Trainable params: </span><span style=\"color: #00af00; text-decoration-color: #00af00\">1,132,944</span> (4.32 MB)\n",
              "</pre>\n"
            ]
          },
          "metadata": {}
        },
        {
          "output_type": "display_data",
          "data": {
            "text/plain": [
              "\u001b[1m Non-trainable params: \u001b[0m\u001b[38;5;34m0\u001b[0m (0.00 B)\n"
            ],
            "text/html": [
              "<pre style=\"white-space:pre;overflow-x:auto;line-height:normal;font-family:Menlo,'DejaVu Sans Mono',consolas,'Courier New',monospace\"><span style=\"font-weight: bold\"> Non-trainable params: </span><span style=\"color: #00af00; text-decoration-color: #00af00\">0</span> (0.00 B)\n",
              "</pre>\n"
            ]
          },
          "metadata": {}
        }
      ],
      "execution_count": 74
    },
    {
      "metadata": {
        "ExecuteTime": {
          "end_time": "2025-04-26T15:16:07.652761Z",
          "start_time": "2025-04-26T15:16:07.633278Z"
        },
        "id": "7347ea18fee1697"
      },
      "cell_type": "code",
      "source": [
        "model.compile(loss='categorical_crossentropy', optimizer='adam' )"
      ],
      "id": "7347ea18fee1697",
      "outputs": [],
      "execution_count": 75
    },
    {
      "metadata": {
        "ExecuteTime": {
          "end_time": "2025-04-26T15:16:15.832620Z",
          "start_time": "2025-04-26T15:16:08.447296Z"
        },
        "colab": {
          "base_uri": "https://localhost:8080/"
        },
        "id": "a6d81dca983241fa",
        "outputId": "3b47c9a8-e580-4bff-a24c-f74527d6a3e7"
      },
      "cell_type": "code",
      "source": [
        "# Train\n",
        "history = model.fit(noisy_x_train, x_train, epochs=20,batch_size=200)"
      ],
      "id": "a6d81dca983241fa",
      "outputs": [
        {
          "output_type": "stream",
          "name": "stdout",
          "text": [
            "Epoch 1/20\n",
            "\u001b[1m300/300\u001b[0m \u001b[32m━━━━━━━━━━━━━━━━━━━━\u001b[0m\u001b[37m\u001b[0m \u001b[1m4s\u001b[0m 4ms/step - loss: 4309.2290\n",
            "Epoch 2/20\n",
            "\u001b[1m300/300\u001b[0m \u001b[32m━━━━━━━━━━━━━━━━━━━━\u001b[0m\u001b[37m\u001b[0m \u001b[1m4s\u001b[0m 4ms/step - loss: 3283.3953\n",
            "Epoch 3/20\n",
            "\u001b[1m300/300\u001b[0m \u001b[32m━━━━━━━━━━━━━━━━━━━━\u001b[0m\u001b[37m\u001b[0m \u001b[1m1s\u001b[0m 4ms/step - loss: 3233.0198\n",
            "Epoch 4/20\n",
            "\u001b[1m300/300\u001b[0m \u001b[32m━━━━━━━━━━━━━━━━━━━━\u001b[0m\u001b[37m\u001b[0m \u001b[1m1s\u001b[0m 4ms/step - loss: 3295.1680\n",
            "Epoch 5/20\n",
            "\u001b[1m300/300\u001b[0m \u001b[32m━━━━━━━━━━━━━━━━━━━━\u001b[0m\u001b[37m\u001b[0m \u001b[1m1s\u001b[0m 4ms/step - loss: nan\n",
            "Epoch 6/20\n",
            "\u001b[1m300/300\u001b[0m \u001b[32m━━━━━━━━━━━━━━━━━━━━\u001b[0m\u001b[37m\u001b[0m \u001b[1m1s\u001b[0m 4ms/step - loss: nan\n",
            "Epoch 7/20\n",
            "\u001b[1m300/300\u001b[0m \u001b[32m━━━━━━━━━━━━━━━━━━━━\u001b[0m\u001b[37m\u001b[0m \u001b[1m1s\u001b[0m 4ms/step - loss: nan\n",
            "Epoch 8/20\n",
            "\u001b[1m300/300\u001b[0m \u001b[32m━━━━━━━━━━━━━━━━━━━━\u001b[0m\u001b[37m\u001b[0m \u001b[1m1s\u001b[0m 4ms/step - loss: nan\n",
            "Epoch 9/20\n",
            "\u001b[1m300/300\u001b[0m \u001b[32m━━━━━━━━━━━━━━━━━━━━\u001b[0m\u001b[37m\u001b[0m \u001b[1m2s\u001b[0m 5ms/step - loss: 3181.4304\n",
            "Epoch 10/20\n",
            "\u001b[1m300/300\u001b[0m \u001b[32m━━━━━━━━━━━━━━━━━━━━\u001b[0m\u001b[37m\u001b[0m \u001b[1m2s\u001b[0m 4ms/step - loss: nan\n",
            "Epoch 11/20\n",
            "\u001b[1m300/300\u001b[0m \u001b[32m━━━━━━━━━━━━━━━━━━━━\u001b[0m\u001b[37m\u001b[0m \u001b[1m1s\u001b[0m 4ms/step - loss: nan\n",
            "Epoch 12/20\n",
            "\u001b[1m300/300\u001b[0m \u001b[32m━━━━━━━━━━━━━━━━━━━━\u001b[0m\u001b[37m\u001b[0m \u001b[1m1s\u001b[0m 4ms/step - loss: nan\n",
            "Epoch 13/20\n",
            "\u001b[1m300/300\u001b[0m \u001b[32m━━━━━━━━━━━━━━━━━━━━\u001b[0m\u001b[37m\u001b[0m \u001b[1m1s\u001b[0m 4ms/step - loss: nan\n",
            "Epoch 14/20\n",
            "\u001b[1m300/300\u001b[0m \u001b[32m━━━━━━━━━━━━━━━━━━━━\u001b[0m\u001b[37m\u001b[0m \u001b[1m1s\u001b[0m 4ms/step - loss: nan\n",
            "Epoch 15/20\n",
            "\u001b[1m300/300\u001b[0m \u001b[32m━━━━━━━━━━━━━━━━━━━━\u001b[0m\u001b[37m\u001b[0m \u001b[1m1s\u001b[0m 4ms/step - loss: nan\n",
            "Epoch 16/20\n",
            "\u001b[1m300/300\u001b[0m \u001b[32m━━━━━━━━━━━━━━━━━━━━\u001b[0m\u001b[37m\u001b[0m \u001b[1m1s\u001b[0m 4ms/step - loss: nan\n",
            "Epoch 17/20\n",
            "\u001b[1m300/300\u001b[0m \u001b[32m━━━━━━━━━━━━━━━━━━━━\u001b[0m\u001b[37m\u001b[0m \u001b[1m1s\u001b[0m 4ms/step - loss: nan\n",
            "Epoch 18/20\n",
            "\u001b[1m300/300\u001b[0m \u001b[32m━━━━━━━━━━━━━━━━━━━━\u001b[0m\u001b[37m\u001b[0m \u001b[1m2s\u001b[0m 5ms/step - loss: nan\n",
            "Epoch 19/20\n",
            "\u001b[1m300/300\u001b[0m \u001b[32m━━━━━━━━━━━━━━━━━━━━\u001b[0m\u001b[37m\u001b[0m \u001b[1m2s\u001b[0m 4ms/step - loss: 3195.6523\n",
            "Epoch 20/20\n",
            "\u001b[1m300/300\u001b[0m \u001b[32m━━━━━━━━━━━━━━━━━━━━\u001b[0m\u001b[37m\u001b[0m \u001b[1m1s\u001b[0m 3ms/step - loss: 3198.6318\n"
          ]
        }
      ],
      "execution_count": 76
    },
    {
      "metadata": {
        "colab": {
          "base_uri": "https://localhost:8080/",
          "height": 339
        },
        "id": "dce393eec4e9668",
        "outputId": "c282c4a7-0589-48e0-d8f8-88e133c307c8"
      },
      "cell_type": "code",
      "outputs": [
        {
          "output_type": "stream",
          "name": "stdout",
          "text": [
            "\u001b[1m313/313\u001b[0m \u001b[32m━━━━━━━━━━━━━━━━━━━━\u001b[0m\u001b[37m\u001b[0m \u001b[1m1s\u001b[0m 2ms/step\n"
          ]
        },
        {
          "output_type": "error",
          "ename": "ValueError",
          "evalue": "unknown is not supported",
          "traceback": [
            "\u001b[0;31m---------------------------------------------------------------------------\u001b[0m",
            "\u001b[0;31mValueError\u001b[0m                                Traceback (most recent call last)",
            "\u001b[0;32m<ipython-input-14-ec9d38b4159e>\u001b[0m in \u001b[0;36m<cell line: 0>\u001b[0;34m()\u001b[0m\n\u001b[1;32m      5\u001b[0m \u001b[0;34m\u001b[0m\u001b[0m\n\u001b[1;32m      6\u001b[0m \u001b[0;34m\u001b[0m\u001b[0m\n\u001b[0;32m----> 7\u001b[0;31m \u001b[0mprint\u001b[0m\u001b[0;34m(\u001b[0m\u001b[0mclassification_report\u001b[0m\u001b[0;34m(\u001b[0m\u001b[0mx_test\u001b[0m\u001b[0;34m,\u001b[0m \u001b[0my_pred\u001b[0m\u001b[0;34m)\u001b[0m\u001b[0;34m)\u001b[0m\u001b[0;34m\u001b[0m\u001b[0;34m\u001b[0m\u001b[0m\n\u001b[0m",
            "\u001b[0;32m/usr/local/lib/python3.11/dist-packages/sklearn/utils/_param_validation.py\u001b[0m in \u001b[0;36mwrapper\u001b[0;34m(*args, **kwargs)\u001b[0m\n\u001b[1;32m    214\u001b[0m                     )\n\u001b[1;32m    215\u001b[0m                 ):\n\u001b[0;32m--> 216\u001b[0;31m                     \u001b[0;32mreturn\u001b[0m \u001b[0mfunc\u001b[0m\u001b[0;34m(\u001b[0m\u001b[0;34m*\u001b[0m\u001b[0margs\u001b[0m\u001b[0;34m,\u001b[0m \u001b[0;34m**\u001b[0m\u001b[0mkwargs\u001b[0m\u001b[0;34m)\u001b[0m\u001b[0;34m\u001b[0m\u001b[0;34m\u001b[0m\u001b[0m\n\u001b[0m\u001b[1;32m    217\u001b[0m             \u001b[0;32mexcept\u001b[0m \u001b[0mInvalidParameterError\u001b[0m \u001b[0;32mas\u001b[0m \u001b[0me\u001b[0m\u001b[0;34m:\u001b[0m\u001b[0;34m\u001b[0m\u001b[0;34m\u001b[0m\u001b[0m\n\u001b[1;32m    218\u001b[0m                 \u001b[0;31m# When the function is just a wrapper around an estimator, we allow\u001b[0m\u001b[0;34m\u001b[0m\u001b[0;34m\u001b[0m\u001b[0m\n",
            "\u001b[0;32m/usr/local/lib/python3.11/dist-packages/sklearn/metrics/_classification.py\u001b[0m in \u001b[0;36mclassification_report\u001b[0;34m(y_true, y_pred, labels, target_names, sample_weight, digits, output_dict, zero_division)\u001b[0m\n\u001b[1;32m   2669\u001b[0m \u001b[0;34m\u001b[0m\u001b[0m\n\u001b[1;32m   2670\u001b[0m     \u001b[0my_true\u001b[0m\u001b[0;34m,\u001b[0m \u001b[0my_pred\u001b[0m \u001b[0;34m=\u001b[0m \u001b[0mattach_unique\u001b[0m\u001b[0;34m(\u001b[0m\u001b[0my_true\u001b[0m\u001b[0;34m,\u001b[0m \u001b[0my_pred\u001b[0m\u001b[0;34m)\u001b[0m\u001b[0;34m\u001b[0m\u001b[0;34m\u001b[0m\u001b[0m\n\u001b[0;32m-> 2671\u001b[0;31m     \u001b[0my_type\u001b[0m\u001b[0;34m,\u001b[0m \u001b[0my_true\u001b[0m\u001b[0;34m,\u001b[0m \u001b[0my_pred\u001b[0m \u001b[0;34m=\u001b[0m \u001b[0m_check_targets\u001b[0m\u001b[0;34m(\u001b[0m\u001b[0my_true\u001b[0m\u001b[0;34m,\u001b[0m \u001b[0my_pred\u001b[0m\u001b[0;34m)\u001b[0m\u001b[0;34m\u001b[0m\u001b[0;34m\u001b[0m\u001b[0m\n\u001b[0m\u001b[1;32m   2672\u001b[0m \u001b[0;34m\u001b[0m\u001b[0m\n\u001b[1;32m   2673\u001b[0m     \u001b[0;32mif\u001b[0m \u001b[0mlabels\u001b[0m \u001b[0;32mis\u001b[0m \u001b[0;32mNone\u001b[0m\u001b[0;34m:\u001b[0m\u001b[0;34m\u001b[0m\u001b[0;34m\u001b[0m\u001b[0m\n",
            "\u001b[0;32m/usr/local/lib/python3.11/dist-packages/sklearn/metrics/_classification.py\u001b[0m in \u001b[0;36m_check_targets\u001b[0;34m(y_true, y_pred)\u001b[0m\n\u001b[1;32m    116\u001b[0m     \u001b[0;31m# No metrics support \"multiclass-multioutput\" format\u001b[0m\u001b[0;34m\u001b[0m\u001b[0;34m\u001b[0m\u001b[0m\n\u001b[1;32m    117\u001b[0m     \u001b[0;32mif\u001b[0m \u001b[0my_type\u001b[0m \u001b[0;32mnot\u001b[0m \u001b[0;32min\u001b[0m \u001b[0;34m[\u001b[0m\u001b[0;34m\"binary\"\u001b[0m\u001b[0;34m,\u001b[0m \u001b[0;34m\"multiclass\"\u001b[0m\u001b[0;34m,\u001b[0m \u001b[0;34m\"multilabel-indicator\"\u001b[0m\u001b[0;34m]\u001b[0m\u001b[0;34m:\u001b[0m\u001b[0;34m\u001b[0m\u001b[0;34m\u001b[0m\u001b[0m\n\u001b[0;32m--> 118\u001b[0;31m         \u001b[0;32mraise\u001b[0m \u001b[0mValueError\u001b[0m\u001b[0;34m(\u001b[0m\u001b[0;34m\"{0} is not supported\"\u001b[0m\u001b[0;34m.\u001b[0m\u001b[0mformat\u001b[0m\u001b[0;34m(\u001b[0m\u001b[0my_type\u001b[0m\u001b[0;34m)\u001b[0m\u001b[0;34m)\u001b[0m\u001b[0;34m\u001b[0m\u001b[0;34m\u001b[0m\u001b[0m\n\u001b[0m\u001b[1;32m    119\u001b[0m \u001b[0;34m\u001b[0m\u001b[0m\n\u001b[1;32m    120\u001b[0m     \u001b[0;32mif\u001b[0m \u001b[0my_type\u001b[0m \u001b[0;32min\u001b[0m \u001b[0;34m[\u001b[0m\u001b[0;34m\"binary\"\u001b[0m\u001b[0;34m,\u001b[0m \u001b[0;34m\"multiclass\"\u001b[0m\u001b[0;34m]\u001b[0m\u001b[0;34m:\u001b[0m\u001b[0;34m\u001b[0m\u001b[0;34m\u001b[0m\u001b[0m\n",
            "\u001b[0;31mValueError\u001b[0m: unknown is not supported"
          ]
        }
      ],
      "execution_count": 14,
      "source": [
        "from sklearn.metrics import classification_report\n",
        "\n",
        "# Test, Evaluate\n",
        "y_pred = model.predict(noisy_x_test)\n",
        "\n",
        "\n",
        "# print(classification_report(x_test, y_pred))"
      ],
      "id": "dce393eec4e9668"
    },
    {
      "cell_type": "code",
      "source": [
        "history = history.history\n",
        "\n",
        "plt.plot(history[\"loss\"], \"r\")"
      ],
      "metadata": {
        "colab": {
          "base_uri": "https://localhost:8080/",
          "height": 447
        },
        "id": "038zao_itX00",
        "outputId": "f7e8a003-cad1-47fa-a23a-e698bd1cfce0"
      },
      "id": "038zao_itX00",
      "execution_count": 18,
      "outputs": [
        {
          "output_type": "execute_result",
          "data": {
            "text/plain": [
              "[<matplotlib.lines.Line2D at 0x7c0ae0a9e490>]"
            ]
          },
          "metadata": {},
          "execution_count": 18
        },
        {
          "output_type": "display_data",
          "data": {
            "text/plain": [
              "<Figure size 640x480 with 1 Axes>"
            ],
            "image/png": "[encoded data removed]"
          },
          "metadata": {}
        }
      ]
    },
    {
      "cell_type": "code",
      "source": [
        "plt.plot(history[\"mse\"])"
      ],
      "metadata": {
        "colab": {
          "base_uri": "https://localhost:8080/",
          "height": 447
        },
        "id": "eHkvYqDOtg8h",
        "outputId": "3f183cd1-d763-4d2a-bad3-1f513adcf1d8"
      },
      "id": "eHkvYqDOtg8h",
      "execution_count": 16,
      "outputs": [
        {
          "output_type": "execute_result",
          "data": {
            "text/plain": [
              "[<matplotlib.lines.Line2D at 0x7c0ae0700090>]"
            ]
          },
          "metadata": {},
          "execution_count": 16
        },
        {
          "output_type": "display_data",
          "data": {
            "text/plain": [
              "<Figure size 640x480 with 1 Axes>"
            ],
            "image/png": "[encoded data removed]"
          },
          "metadata": {}
        }
      ]
    },
    {
      "metadata": {
        "id": "bd084223db243468"
      },
      "cell_type": "code",
      "outputs": [],
      "execution_count": null,
      "source": [
        "# classification - digit detector"
      ],
      "id": "bd084223db243468"
    }
  ],
  "metadata": {
    "kernelspec": {
      "display_name": "Python 3",
      "name": "python3"
    },
    "language_info": {
      "codemirror_mode": {
        "name": "ipython",
        "version": 2
      },
      "file_extension": ".py",
      "mimetype": "text/x-python",
      "name": "python",
      "nbconvert_exporter": "python",
      "pygments_lexer": "ipython2",
      "version": "2.7.6"
    },
    "colab": {
      "provenance": [],
      "gpuType": "T4"
    },
    "accelerator": "GPU"
  },
  "nbformat": 4,
  "nbformat_minor": 5
}